{
 "cells": [
  {
   "cell_type": "code",
   "execution_count": 5,
   "metadata": {},
   "outputs": [
    {
     "name": "stdout",
     "output_type": "stream",
     "text": [
      "Nombre d'images traitées : 84916\n",
      "Nombre de targets traitées : 84916\n",
      "train_targets :  [23 13 21 ...  8  9 23]\n",
      "test_targets :  [22  0 12 ... 25  9 23]\n"
     ]
    }
   ],
   "source": [
    "\n",
    "import matplotlib.pyplot as plt\n",
    "import argparse\n",
    "import time\n",
    "import pandas as pd\n",
    "import pickle\n",
    "import joblib\n",
    "import numpy as np\n",
    "from pathlib import Path\n",
    "import os\n",
    "import sys\n",
    "from sklearn.model_selection import train_test_split\n",
    "from sklearn.metrics import classification_report\n",
    "from sklearn.model_selection import GridSearchCV\n",
    "from imblearn.over_sampling import RandomOverSampler\n",
    "from imblearn.under_sampling import RandomUnderSampler\n",
    "from imblearn.metrics import classification_report_imbalanced, geometric_mean_score\n",
    "\n",
    "\n",
    "import keras\n",
    "import tensorflow as tf\n",
    "\n",
    "sys.path.insert(0, '../..') #Pour inclure le dossier parent à report\n",
    "%matplotlib inline\n",
    "\n",
    "from src.generators.generator_image import ImageGenerator\n",
    "from src.models.models_image import *\n",
    "\n",
    "BATCH_SIZE = 32\n",
    "EPOCHS_TEXT= 30\n",
    "EPOCHS_IMAGE = 30\n",
    "EPOCHS_FUSION = 50\n",
    "NUM_FOLDS = 3\n",
    "NUM_TARGETS = 84916\n",
    "TARGET_SHAPE = [50, 50, 3]\n",
    "TEST_SPLIT= .16\n",
    "RANDOM_STATE = 123\n",
    "\n",
    "index_train, index_test = train_test_split(np.arange(NUM_TARGETS), test_size=TEST_SPLIT, random_state=RANDOM_STATE)\n",
    "\n",
    "model_image = ModelImage_ResNet50(\n",
    "    suffix=\"_224\",\n",
    "    num_folds=NUM_FOLDS,\n",
    "    epochs = EPOCHS_IMAGE,\n",
    "    batch_size=BATCH_SIZE,\n",
    "    load=True,\n",
    "    save=True,\n",
    "    report=True,\n",
    "    summary=True,\n",
    "    target_shape=TARGET_SHAPE,\n",
    "    random_state=RANDOM_STATE,\n",
    ")\n",
    "   \n",
    "    \n",
    "image_generator = ImageGenerator(\n",
    "    root_dir=\"data/raw/images/image_train/\",\n",
    "    csv_texts=\"data/raw/X_train_update.csv\",\n",
    "    csv_labels=\"data/raw/Y_train_CVw08PX.csv\",\n",
    "    target_shape=TARGET_SHAPE,\n",
    "    samples=NUM_TARGETS,\n",
    "    batch_size=BATCH_SIZE,\n",
    "    preprocessor=model_image.get_preprocessor(),\n",
    "    encoder_fitted=False,\n",
    "    preprocessing_function=model_image.get_preprocess_input()\n",
    "\n",
    ")\n",
    "train_image_generator, test_image_generator = image_generator.split(split_indexes=[index_train, index_test], is_batch=False, )\n",
    "print(\"train_targets : \" , train_image_generator.targets)\n",
    "print(\"test_targets : \" , test_image_generator.targets)\n",
    "   \n"
   ]
  },
  {
   "cell_type": "code",
   "execution_count": null,
   "metadata": {},
   "outputs": [],
   "source": [
    "import tensorflow as tf\n",
    "print(tf.__version__)"
   ]
  },
  {
   "cell_type": "code",
   "execution_count": 6,
   "metadata": {},
   "outputs": [
    {
     "name": "stdout",
     "output_type": "stream",
     "text": [
      "Current fold : src\\models\\image\\image_ResNet50_224\n",
      "model loaded from src\\models\\image\\image_ResNet50_224\n",
      "Found 71329 validated image filenames belonging to 27 classes.\n",
      "Found 13587 validated image filenames belonging to 27 classes.\n",
      "Found 13587 validated image filenames belonging to 27 classes.\n",
      "425/425 [==============================] - 89s 206ms/step\n",
      "[ 8 10  8 ...  8  8  8]\n",
      "[22  0 12 ... 25  9 23]\n"
     ]
    },
    {
     "data": {
      "text/plain": [
       "<keras.engine.sequential.Sequential at 0x1ba9042aeb0>"
      ]
     },
     "execution_count": 6,
     "metadata": {},
     "output_type": "execute_result"
    }
   ],
   "source": [
    "\n",
    "#rc\\models\\image\\image_MobileNetV2_224\\{saved_model.pbtxt|saved_model.pb}\n",
    "model_image.fit(\n",
    "    train_data=train_image_generator,\n",
    "    validation_data=test_image_generator,\n",
    "    class_weight=image_generator.class_weight,\n",
    "    crossval=False\n",
    ")\n",
    "\n"
   ]
  }
 ],
 "metadata": {
  "kernelspec": {
   "display_name": "env",
   "language": "python",
   "name": "python3"
  },
  "language_info": {
   "codemirror_mode": {
    "name": "ipython",
    "version": 3
   },
   "file_extension": ".py",
   "mimetype": "text/x-python",
   "name": "python",
   "nbconvert_exporter": "python",
   "pygments_lexer": "ipython3",
   "version": "3.9.13"
  },
  "orig_nbformat": 4,
  "vscode": {
   "interpreter": {
    "hash": "b75a87c33401be6e4b50b30fb6526e3b0f1ee652121130951acb67c1afd19d74"
   }
  }
 },
 "nbformat": 4,
 "nbformat_minor": 2
}
