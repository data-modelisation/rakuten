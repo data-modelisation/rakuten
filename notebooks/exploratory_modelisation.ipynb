{
 "cells": [
  {
   "attachments": {},
   "cell_type": "markdown",
   "metadata": {},
   "source": [
    "# Projet Datascientest | DST_DEC22 | Rapport de modelisation\n",
    "\n",
    "**Participants** : Olga TOLSTOLUTSKA, Mohamed BACHKAT, Charly LAGRESLE \\\n",
    "**Mentor** : Manu PORTEL \\\n",
    "**Date du document** : 2023/02/20\n",
    "\n",
    "## Contexte et objectif\n",
    "\n",
    "Rakuten est un site de e-commerce, regroupant près de 1.3 milliards d'utilisateurs. Afin de faciliter la gestion des suggestions de leurs recherches ou des recommandations qui leurs seront proposées, il est important de classifier les produits. Du fait de la quantité de produits et de leurs catégories associées, ce classement ne peut ni être fait manuellement, ni être régi par des règles. Une approche plus flexible, efficace et reproductible est donc à mettre en place. \n",
    "\n",
    "L'objectif est de prédire le code de chaque produit, c'est-à-dire sa catégorie, sur la base d'une analyse de données textuelles et d'images.\n"
   ]
  }
 ],
 "metadata": {
  "kernelspec": {
   "display_name": "Python 3 (ipykernel)",
   "language": "python",
   "name": "python3"
  },
  "language_info": {
   "codemirror_mode": {
    "name": "ipython",
    "version": 3
   },
   "file_extension": ".py",
   "mimetype": "text/x-python",
   "name": "python",
   "nbconvert_exporter": "python",
   "pygments_lexer": "ipython3",
   "version": "3.9.13 (main, Jan 25 2023, 14:26:25) \n[GCC 12.2.0]"
  },
  "vscode": {
   "interpreter": {
    "hash": "1ceab415a6f83c7db9089d4db78c331d332ad0a9e6f8eb7fbedc6fdabfd79bd6"
   }
  }
 },
 "nbformat": 4,
 "nbformat_minor": 2
}
