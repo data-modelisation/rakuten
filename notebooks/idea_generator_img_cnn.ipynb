{
 "cells": [
  {
   "cell_type": "code",
   "execution_count": 1,
   "metadata": {},
   "outputs": [],
   "source": [
    "#Chargement des librairies\n",
    "\n",
    "from sklearn.model_selection import train_test_split\n",
    "\n",
    "from sklearn.decomposition import PCA\n",
    "from sklearn.svm import SVC\n",
    "from sklearn.metrics import confusion_matrix\n",
    "\n",
    "import pandas as pd\n",
    "import numpy as np\n",
    "\n",
    "import matplotlib.pyplot as plt\n",
    "from matplotlib.image import imread\n",
    "from matplotlib import offsetbox\n",
    "import cv2\n",
    "import os,glob\n",
    "import matplotlib.pylab as plt\n",
    "from os import listdir,makedirs\n",
    "from os.path import isfile,join\n",
    "import PIL\n",
    "import re\n",
    "from keras.utils import to_categorical\n",
    "\n",
    "from tensorflow.keras.layers import Input, Dense\n",
    "from tensorflow.keras.models import Model\n",
    "from tensorflow.keras.layers import Dropout \n",
    "from tensorflow.keras.layers import Flatten\n",
    "from tensorflow.keras.layers import Conv2D \n",
    "from tensorflow.keras.layers import MaxPooling2D\n",
    "\n",
    "from tensorflow.keras.preprocessing.image import ImageDataGenerator\n",
    "\n",
    "from tensorflow.keras.applications.vgg16 import preprocess_input\n",
    "\n",
    "from sklearn import preprocessing\n",
    "\n",
    "import numpy as np\n",
    "from scipy import signal\n",
    "\n",
    "%matplotlib inline"
   ]
  },
  {
   "cell_type": "code",
   "execution_count": 2,
   "metadata": {},
   "outputs": [],
   "source": [
    "\n",
    "\n",
    "# Chargement des données\n",
    "y = pd.read_csv(\"C:/Users/data/Y_train_CVw08PX.csv\")\n",
    "X = pd.read_csv(\"C:/Users/data/X_train_update.csv\")\n",
    "\n",
    "# transformer les images du dossier en numpyarray, avec une période de n_b_image_select \n",
    "#pth ='C:/Users/image_train'\n",
    "# dossier des images compressées et redimentionnées\n",
    "pth = 'C:/Users/MBACHKAT/Anaconda3/Data/image_reduction/'\n",
    "\n",
    "folders =  os.listdir(pth)\n",
    "\n",
    "\n",
    "\n",
    "files = []\n",
    "columns = ['data']\n",
    "# variables qui nous donne le nombre de la période de selection des images, exemple si egale à 20 alors on garde les images toutes les 100 images\n",
    "nb_images_select = 20\n",
    "# commpteur de fichier\n",
    "cpt = 0\n",
    "# regex du nom de fichier, on recupère le numéro de l'image\n",
    "r = re.compile(r\"image_([0-9]*)_product\")\n",
    "\n",
    "# taille de l'image\n",
    "pixel_size = 150\n",
    "\n",
    "for file in folders:\n",
    "    # on selectionne une image toutes les nb_images_select images\n",
    "    if(cpt%nb_images_select==0):\n",
    "        files.append(file)\n",
    "    cpt+=1\n",
    "\n",
    "#  initialisation de ligne du numpy array\n",
    "samples = np.ones(shape=(1+3*pixel_size*pixel_size))\n",
    "for file in files:\n",
    "    # on récupère l'image du fichier\n",
    "    img = cv2.imread(os.path.join(pth,file))\n",
    "    img = np.int64(img)\n",
    "    # on écrase l'image\n",
    "    img = img.reshape(-1)\n",
    "    # recherche du pattern dans le nom du fichier\n",
    "    r_num_file = r.search(file)\n",
    "    # numéro de l'image\n",
    "    num_file = r_num_file.groups()[0]\n",
    "    \n",
    "    img_class = y.loc[X.loc[X['imageid'].astype(str)== str(num_file)].index[0],'prdtypecode']\n",
    "    # ligne du numpy array avec les pixels comme colonne et on rajoute une colonne pour le type produit\n",
    "    img_tab = np.append(img,img_class)\n",
    "    # on empile les lignes\n",
    "    samples = np.vstack((samples, img_tab))\n",
    "   \n",
    "array_image = samples\n",
    "\n",
    "# effacer la première ligne qui a servi en remplire l'array transformé en dataframe\n",
    "\n",
    "array_image = np.delete(array_image,0,0)\n",
    "\n"
   ]
  },
  {
   "cell_type": "code",
   "execution_count": 3,
   "metadata": {},
   "outputs": [
    {
     "name": "stdout",
     "output_type": "stream",
     "text": [
      "(4246,)\n",
      "(4246, 67500)\n"
     ]
    }
   ],
   "source": [
    "# On vérifie les dimensions des numpy array\n",
    "\n",
    "\n",
    "targets = array_image[:,-1]\n",
    "\n",
    "df_image = array_image[:,0:3*pixel_size*pixel_size]\n",
    "\n",
    "print(targets.shape)\n",
    "\n",
    "print(df_image.shape)"
   ]
  },
  {
   "cell_type": "code",
   "execution_count": 4,
   "metadata": {},
   "outputs": [
    {
     "data": {
      "text/plain": [
       "(4246, 150, 150, 3)"
      ]
     },
     "execution_count": 4,
     "metadata": {},
     "output_type": "execute_result"
    }
   ],
   "source": [
    "X = np.array(df_image)\n",
    "X = X.reshape((-1, 150, 150, 3))\n",
    "X = X.astype('float32')\n",
    "X /= 255.0\n",
    "\n",
    "Y = np.array(targets)\n",
    "\n",
    "X.shape"
   ]
  },
  {
   "cell_type": "code",
   "execution_count": 6,
   "metadata": {},
   "outputs": [
    {
     "data": {
      "text/plain": [
       "(4246, 150, 150, 3)"
      ]
     },
     "execution_count": 6,
     "metadata": {},
     "output_type": "execute_result"
    }
   ],
   "source": [
    "Mcontour = [[1,0,0],[0,0,0],[0,0,-1]]\n",
    "Mclair = [[1,0,0],[0,0,0],[0,0,10]]\n",
    "\n",
    "Xprim = X\n",
    "Xsecond = X\n",
    "\n",
    "for i in range(X.shape[0]):\n",
    "    for j in range(X.shape[2]):\n",
    "        Xprim[i,:,j] = signal.convolve2d(X[i,:,j], Mcontour, mode='same', boundary='fill')\n",
    "\n",
    "\n",
    "for i in range(X.shape[0]):\n",
    "    for j in range(X.shape[2]):\n",
    "        Xsecond[i,:,j] = signal.convolve2d(X[i,:,j], Mclair, mode='same', boundary='fill')\n",
    "\n",
    "Xprim.shape\n",
    "\n"
   ]
  },
  {
   "cell_type": "code",
   "execution_count": 7,
   "metadata": {},
   "outputs": [],
   "source": [
    "Xtotal = np.concatenate((Xprim,X))\n",
    "\n",
    "Xtotal.shape\n",
    "Ytotal = np.concatenate((Y,Y))"
   ]
  },
  {
   "cell_type": "code",
   "execution_count": 83,
   "metadata": {},
   "outputs": [],
   "source": [
    "'''\n",
    "Y_df = pd.DataFrame(Y,columns=['col1'] )\n",
    "\n",
    "Y_df = Y_df.replace(to_replace = np.unique(Y), value = range(len(np.unique(Y))))\n",
    "\n",
    "\n",
    "Y = Y_df.to_numpy()\n",
    "Y = Y[:,0]\n",
    "'''\n"
   ]
  },
  {
   "cell_type": "code",
   "execution_count": 25,
   "metadata": {},
   "outputs": [],
   "source": [
    "labelencoder = preprocessing.LabelEncoder()\n",
    "\n",
    "Y_encoded = labelencoder.fit_transform(Y)\n",
    "\n",
    "# Y = labelencoder.inverse_transform(Y_encoded)"
   ]
  },
  {
   "cell_type": "code",
   "execution_count": 26,
   "metadata": {},
   "outputs": [
    {
     "data": {
      "text/plain": [
       "array([ 0,  1,  2,  3,  4,  5,  6,  7,  8,  9, 10, 11, 12, 13, 14, 15, 16,\n",
       "       17, 18, 19, 20, 21, 22, 23, 24, 25, 26], dtype=int64)"
      ]
     },
     "execution_count": 26,
     "metadata": {},
     "output_type": "execute_result"
    }
   ],
   "source": [
    "np.unique(Y_encoded)\n"
   ]
  },
  {
   "cell_type": "code",
   "execution_count": 36,
   "metadata": {},
   "outputs": [
    {
     "data": {
      "text/plain": [
       "(4246, 120, 120, 3)"
      ]
     },
     "execution_count": 36,
     "metadata": {},
     "output_type": "execute_result"
    }
   ],
   "source": [
    "Xprim = Xprim[:,10:140,10:140]\n",
    "Xprim.shape"
   ]
  },
  {
   "cell_type": "code",
   "execution_count": 37,
   "metadata": {},
   "outputs": [],
   "source": [
    "# On split le jeu d'entrainement et le jeu de test\n",
    "X_train, X_test, y_train, y_test = train_test_split(Xprim, Y_encoded, test_size = .2, random_state = 42, shuffle = True)\n"
   ]
  },
  {
   "cell_type": "code",
   "execution_count": 38,
   "metadata": {},
   "outputs": [
    {
     "name": "stdout",
     "output_type": "stream",
     "text": [
      "(3396,)\n",
      "(3396, 120, 120, 3)\n"
     ]
    }
   ],
   "source": [
    "print(y_train.shape)\n",
    "print(X_train.shape)"
   ]
  },
  {
   "cell_type": "code",
   "execution_count": 39,
   "metadata": {},
   "outputs": [],
   "source": [
    "train_datagen = ImageDataGenerator(\n",
    "    \n",
    "    horizontal_flip = True\n",
    "    ) # randomly flipping half of the images horizontally\n",
    "\n",
    "test_datagen = ImageDataGenerator()\n"
   ]
  },
  {
   "cell_type": "code",
   "execution_count": 40,
   "metadata": {},
   "outputs": [],
   "source": [
    "\n",
    "batch_size = 128\n",
    "\n",
    "\n",
    "train_dataset = train_datagen.flow(X_train,y_train,\n",
    "                         batch_size = batch_size)\n",
    "\n",
    "\n",
    "test_dataset = test_datagen.flow(X_test, y_test, batch_size = batch_size) \n",
    "\n",
    "\n"
   ]
  },
  {
   "cell_type": "code",
   "execution_count": 41,
   "metadata": {},
   "outputs": [
    {
     "data": {
      "text/plain": [
       "(3396,)"
      ]
     },
     "execution_count": 41,
     "metadata": {},
     "output_type": "execute_result"
    }
   ],
   "source": [
    "y_train.shape"
   ]
  },
  {
   "cell_type": "code",
   "execution_count": null,
   "metadata": {},
   "outputs": [],
   "source": []
  },
  {
   "cell_type": "code",
   "execution_count": 42,
   "metadata": {},
   "outputs": [],
   "source": [
    "# réseau de neurone Lenet\n",
    "inputs = Input(shape = (120, 120,3), name = \"Input\")\n",
    "\n",
    "\n",
    "max_pool_1 = MaxPooling2D(pool_size = (2, 2))\n",
    "\n",
    "conv_2 = Conv2D(filters = 16,                    \n",
    "                kernel_size = (3, 3),          \n",
    "                padding = 'valid',             \n",
    "                activation = 'relu')\n",
    "\n",
    "max_pool_2 = MaxPooling2D(pool_size = (2, 2))\n",
    "\n",
    "flatten = Flatten()\n",
    "\n",
    "dropout = Dropout(rate = 0.2)\n",
    "\n",
    "dense_1 = Dense(units = 64,\n",
    "                activation = 'relu')\n",
    "\n",
    "\n",
    "\n",
    "output_layer = Dense(units = 27,\n",
    "                activation = 'softmax')\n",
    "#x=conv_1(inputs)\n",
    "x=max_pool_1(inputs)\n",
    "x=conv_2(x)\n",
    "x=max_pool_2(x)\n",
    "\n",
    "\n",
    "x=dropout(x)\n",
    "x=flatten(x)\n",
    "x=dense_1(x)\n",
    "\n",
    "outputs=output_layer(x)\n",
    "model = Model(inputs = inputs, outputs = outputs)"
   ]
  },
  {
   "cell_type": "code",
   "execution_count": 44,
   "metadata": {},
   "outputs": [],
   "source": [
    "model.compile(loss='sparse_categorical_crossentropy', # fonction de perte\n",
    "              optimizer='adam',                # algorithme d'optimisation\n",
    "              metrics=['accuracy'])            # métrique d'évaluation\n",
    "\n"
   ]
  },
  {
   "cell_type": "code",
   "execution_count": 45,
   "metadata": {},
   "outputs": [
    {
     "name": "stdout",
     "output_type": "stream",
     "text": [
      "Epoch 1/150\n"
     ]
    },
    {
     "name": "stderr",
     "output_type": "stream",
     "text": [
      "C:\\Users\\MBACHKAT\\AppData\\Local\\Temp\\ipykernel_5828\\2455393361.py:2: UserWarning: `Model.fit_generator` is deprecated and will be removed in a future version. Please use `Model.fit`, which supports generators.\n",
      "  training_history = model.fit_generator(\n"
     ]
    },
    {
     "name": "stdout",
     "output_type": "stream",
     "text": [
      "26/26 [==============================] - 4s 123ms/step - loss: 5.2366 - accuracy: 0.0823 - val_loss: 3.2935 - val_accuracy: 0.0682\n",
      "Epoch 2/150\n",
      "26/26 [==============================] - 3s 117ms/step - loss: 3.2895 - accuracy: 0.0545 - val_loss: 3.2851 - val_accuracy: 0.0671\n",
      "Epoch 3/150\n",
      "26/26 [==============================] - 3s 117ms/step - loss: 3.2810 - accuracy: 0.0563 - val_loss: 3.2762 - val_accuracy: 0.0671\n",
      "Epoch 4/150\n",
      "26/26 [==============================] - 4s 154ms/step - loss: 3.2723 - accuracy: 0.0560 - val_loss: 3.2676 - val_accuracy: 0.0671\n",
      "Epoch 5/150\n",
      "26/26 [==============================] - 4s 156ms/step - loss: 3.2640 - accuracy: 0.0572 - val_loss: 3.2590 - val_accuracy: 0.0671\n",
      "Epoch 6/150\n",
      "26/26 [==============================] - 4s 156ms/step - loss: 3.2558 - accuracy: 0.0713 - val_loss: 3.2509 - val_accuracy: 0.1329\n",
      "Epoch 7/150\n",
      "26/26 [==============================] - 4s 151ms/step - loss: 3.2486 - accuracy: 0.1196 - val_loss: 3.2432 - val_accuracy: 0.1329\n",
      "Epoch 8/150\n",
      "26/26 [==============================] - 5s 181ms/step - loss: 3.2407 - accuracy: 0.1209 - val_loss: 3.2355 - val_accuracy: 0.1329\n",
      "Epoch 9/150\n",
      "26/26 [==============================] - 4s 167ms/step - loss: 3.2335 - accuracy: 0.1206 - val_loss: 3.2282 - val_accuracy: 0.1329\n",
      "Epoch 10/150\n",
      "26/26 [==============================] - 4s 163ms/step - loss: 3.2269 - accuracy: 0.1190 - val_loss: 3.2212 - val_accuracy: 0.1329\n",
      "Epoch 11/150\n",
      "26/26 [==============================] - 4s 154ms/step - loss: 3.2191 - accuracy: 0.1206 - val_loss: 3.2143 - val_accuracy: 0.1329\n",
      "Epoch 12/150\n",
      "26/26 [==============================] - 5s 175ms/step - loss: 3.2139 - accuracy: 0.1200 - val_loss: 3.2080 - val_accuracy: 0.1329\n",
      "Epoch 13/150\n",
      "26/26 [==============================] - 4s 161ms/step - loss: 3.2070 - accuracy: 0.1190 - val_loss: 3.2018 - val_accuracy: 0.1329\n",
      "Epoch 14/150\n",
      "26/26 [==============================] - 4s 162ms/step - loss: 3.2009 - accuracy: 0.1190 - val_loss: 3.1958 - val_accuracy: 0.1329\n",
      "Epoch 15/150\n",
      "26/26 [==============================] - 5s 192ms/step - loss: 3.1964 - accuracy: 0.1190 - val_loss: 3.1903 - val_accuracy: 0.1329\n",
      "Epoch 16/150\n",
      "26/26 [==============================] - 4s 165ms/step - loss: 3.1904 - accuracy: 0.1190 - val_loss: 3.1848 - val_accuracy: 0.1329\n",
      "Epoch 17/150\n",
      "26/26 [==============================] - 4s 156ms/step - loss: 3.1863 - accuracy: 0.1181 - val_loss: 3.1797 - val_accuracy: 0.1329\n",
      "Epoch 18/150\n",
      "26/26 [==============================] - 4s 155ms/step - loss: 3.1800 - accuracy: 0.1209 - val_loss: 3.1748 - val_accuracy: 0.1329\n",
      "Epoch 19/150\n",
      "26/26 [==============================] - 4s 150ms/step - loss: 3.1772 - accuracy: 0.1190 - val_loss: 3.1701 - val_accuracy: 0.1329\n",
      "Epoch 20/150\n",
      "26/26 [==============================] - 4s 172ms/step - loss: 3.1726 - accuracy: 0.1187 - val_loss: 3.1657 - val_accuracy: 0.1329\n",
      "Epoch 21/150\n",
      "26/26 [==============================] - 4s 165ms/step - loss: 3.1678 - accuracy: 0.1203 - val_loss: 3.1613 - val_accuracy: 0.1329\n",
      "Epoch 22/150\n",
      "26/26 [==============================] - 5s 170ms/step - loss: 3.1631 - accuracy: 0.1178 - val_loss: 3.1573 - val_accuracy: 0.1329\n",
      "Epoch 23/150\n",
      "26/26 [==============================] - 4s 159ms/step - loss: 3.1584 - accuracy: 0.1200 - val_loss: 3.1533 - val_accuracy: 0.1329\n",
      "Epoch 24/150\n",
      "26/26 [==============================] - 4s 150ms/step - loss: 3.1549 - accuracy: 0.1209 - val_loss: 3.1496 - val_accuracy: 0.1329\n",
      "Epoch 25/150\n",
      "26/26 [==============================] - 4s 152ms/step - loss: 3.1532 - accuracy: 0.1190 - val_loss: 3.1461 - val_accuracy: 0.1329\n",
      "Epoch 26/150\n",
      "26/26 [==============================] - 4s 154ms/step - loss: 3.1486 - accuracy: 0.1196 - val_loss: 3.1427 - val_accuracy: 0.1329\n",
      "Epoch 27/150\n",
      "26/26 [==============================] - 4s 151ms/step - loss: 3.1471 - accuracy: 0.1184 - val_loss: 3.1394 - val_accuracy: 0.1329\n",
      "Epoch 28/150\n",
      "26/26 [==============================] - 4s 159ms/step - loss: 3.1434 - accuracy: 0.1200 - val_loss: 3.1363 - val_accuracy: 0.1329\n",
      "Epoch 29/150\n",
      "26/26 [==============================] - 4s 152ms/step - loss: 3.1417 - accuracy: 0.1200 - val_loss: 3.1333 - val_accuracy: 0.1329\n",
      "Epoch 30/150\n",
      "26/26 [==============================] - 4s 151ms/step - loss: 3.1369 - accuracy: 0.1196 - val_loss: 3.1305 - val_accuracy: 0.1329\n",
      "Epoch 31/150\n",
      "26/26 [==============================] - 4s 151ms/step - loss: 3.1357 - accuracy: 0.1196 - val_loss: 3.1276 - val_accuracy: 0.1329\n",
      "Epoch 32/150\n",
      "26/26 [==============================] - 4s 155ms/step - loss: 3.1339 - accuracy: 0.1187 - val_loss: 3.1252 - val_accuracy: 0.1329\n",
      "Epoch 33/150\n",
      "26/26 [==============================] - 4s 163ms/step - loss: 3.1331 - accuracy: 0.1166 - val_loss: 3.1229 - val_accuracy: 0.1329\n",
      "Epoch 34/150\n",
      "26/26 [==============================] - 5s 178ms/step - loss: 3.1286 - accuracy: 0.1200 - val_loss: 3.1206 - val_accuracy: 0.1329\n",
      "Epoch 35/150\n",
      "26/26 [==============================] - 5s 175ms/step - loss: 3.1255 - accuracy: 0.1203 - val_loss: 3.1183 - val_accuracy: 0.1329\n",
      "Epoch 36/150\n",
      "26/26 [==============================] - 5s 189ms/step - loss: 3.1267 - accuracy: 0.1181 - val_loss: 3.1163 - val_accuracy: 0.1329\n",
      "Epoch 37/150\n",
      "26/26 [==============================] - 6s 222ms/step - loss: 3.1237 - accuracy: 0.1196 - val_loss: 3.1144 - val_accuracy: 0.1329\n",
      "Epoch 38/150\n",
      "26/26 [==============================] - 5s 184ms/step - loss: 3.1194 - accuracy: 0.1203 - val_loss: 3.1123 - val_accuracy: 0.1329\n",
      "Epoch 39/150\n",
      "26/26 [==============================] - 4s 153ms/step - loss: 3.1185 - accuracy: 0.1200 - val_loss: 3.1105 - val_accuracy: 0.1329\n",
      "Epoch 40/150\n",
      "26/26 [==============================] - 4s 159ms/step - loss: 3.1172 - accuracy: 0.1202 - val_loss: 3.1089 - val_accuracy: 0.1329\n",
      "Epoch 41/150\n",
      "26/26 [==============================] - 4s 157ms/step - loss: 3.1163 - accuracy: 0.1190 - val_loss: 3.1071 - val_accuracy: 0.1329\n",
      "Epoch 42/150\n",
      "26/26 [==============================] - 4s 168ms/step - loss: 3.1152 - accuracy: 0.1200 - val_loss: 3.1055 - val_accuracy: 0.1329\n",
      "Epoch 43/150\n",
      "26/26 [==============================] - 4s 152ms/step - loss: 3.1101 - accuracy: 0.1206 - val_loss: 3.1040 - val_accuracy: 0.1329\n",
      "Epoch 44/150\n",
      "26/26 [==============================] - 4s 162ms/step - loss: 3.1124 - accuracy: 0.1196 - val_loss: 3.1026 - val_accuracy: 0.1329\n",
      "Epoch 45/150\n",
      "26/26 [==============================] - 4s 160ms/step - loss: 3.1117 - accuracy: 0.1187 - val_loss: 3.1013 - val_accuracy: 0.1329\n",
      "Epoch 46/150\n",
      "26/26 [==============================] - 4s 150ms/step - loss: 3.1084 - accuracy: 0.1193 - val_loss: 3.1001 - val_accuracy: 0.1329\n",
      "Epoch 47/150\n",
      "26/26 [==============================] - 4s 156ms/step - loss: 3.1114 - accuracy: 0.1166 - val_loss: 3.0990 - val_accuracy: 0.1329\n",
      "Epoch 48/150\n",
      "26/26 [==============================] - 5s 178ms/step - loss: 3.1071 - accuracy: 0.1196 - val_loss: 3.0978 - val_accuracy: 0.1329\n",
      "Epoch 49/150\n",
      "26/26 [==============================] - 4s 152ms/step - loss: 3.1065 - accuracy: 0.1215 - val_loss: 3.0967 - val_accuracy: 0.1329\n",
      "Epoch 50/150\n",
      "26/26 [==============================] - 4s 156ms/step - loss: 3.1076 - accuracy: 0.1181 - val_loss: 3.0957 - val_accuracy: 0.1329\n",
      "Epoch 51/150\n",
      "26/26 [==============================] - 4s 156ms/step - loss: 3.1055 - accuracy: 0.1190 - val_loss: 3.0948 - val_accuracy: 0.1329\n",
      "Epoch 52/150\n",
      "26/26 [==============================] - 4s 156ms/step - loss: 3.1034 - accuracy: 0.1187 - val_loss: 3.0938 - val_accuracy: 0.1329\n",
      "Epoch 53/150\n",
      "26/26 [==============================] - 4s 151ms/step - loss: 3.1034 - accuracy: 0.1209 - val_loss: 3.0929 - val_accuracy: 0.1329\n",
      "Epoch 54/150\n",
      "26/26 [==============================] - 4s 155ms/step - loss: 3.1017 - accuracy: 0.1190 - val_loss: 3.0920 - val_accuracy: 0.1329\n",
      "Epoch 55/150\n",
      "26/26 [==============================] - 4s 157ms/step - loss: 3.1024 - accuracy: 0.1203 - val_loss: 3.0913 - val_accuracy: 0.1329\n",
      "Epoch 56/150\n",
      "26/26 [==============================] - 4s 158ms/step - loss: 3.1012 - accuracy: 0.1200 - val_loss: 3.0906 - val_accuracy: 0.1329\n",
      "Epoch 57/150\n",
      "26/26 [==============================] - 5s 172ms/step - loss: 3.1007 - accuracy: 0.1206 - val_loss: 3.0898 - val_accuracy: 0.1329\n",
      "Epoch 58/150\n",
      "26/26 [==============================] - 4s 164ms/step - loss: 3.0994 - accuracy: 0.1193 - val_loss: 3.0893 - val_accuracy: 0.1329\n",
      "Epoch 59/150\n",
      "26/26 [==============================] - 4s 153ms/step - loss: 3.1001 - accuracy: 0.1178 - val_loss: 3.0886 - val_accuracy: 0.1329\n",
      "Epoch 60/150\n",
      "26/26 [==============================] - 4s 156ms/step - loss: 3.0998 - accuracy: 0.1193 - val_loss: 3.0880 - val_accuracy: 0.1329\n",
      "Epoch 61/150\n",
      "26/26 [==============================] - 4s 152ms/step - loss: 3.0972 - accuracy: 0.1196 - val_loss: 3.0873 - val_accuracy: 0.1329\n",
      "Epoch 62/150\n",
      "26/26 [==============================] - 4s 153ms/step - loss: 3.0988 - accuracy: 0.1196 - val_loss: 3.0869 - val_accuracy: 0.1329\n",
      "Epoch 63/150\n",
      "26/26 [==============================] - 4s 151ms/step - loss: 3.0941 - accuracy: 0.1218 - val_loss: 3.0863 - val_accuracy: 0.1329\n",
      "Epoch 64/150\n",
      "26/26 [==============================] - 4s 153ms/step - loss: 3.0985 - accuracy: 0.1187 - val_loss: 3.0860 - val_accuracy: 0.1329\n",
      "Epoch 65/150\n",
      "26/26 [==============================] - 4s 155ms/step - loss: 3.0950 - accuracy: 0.1187 - val_loss: 3.0855 - val_accuracy: 0.1329\n",
      "Epoch 66/150\n",
      "26/26 [==============================] - 5s 178ms/step - loss: 3.0851 - accuracy: 0.1203 - val_loss: 3.0479 - val_accuracy: 0.1329\n",
      "Epoch 67/150\n",
      "26/26 [==============================] - 4s 153ms/step - loss: 3.0584 - accuracy: 0.1196 - val_loss: 3.0293 - val_accuracy: 0.1329\n",
      "Epoch 68/150\n",
      "26/26 [==============================] - 4s 161ms/step - loss: 3.0322 - accuracy: 0.1190 - val_loss: 3.0182 - val_accuracy: 0.1329\n",
      "Epoch 69/150\n",
      "26/26 [==============================] - 4s 154ms/step - loss: 3.0136 - accuracy: 0.1200 - val_loss: 3.0412 - val_accuracy: 0.1329\n",
      "Epoch 70/150\n",
      "26/26 [==============================] - 4s 153ms/step - loss: 3.0072 - accuracy: 0.1206 - val_loss: 2.9960 - val_accuracy: 0.1329\n",
      "Epoch 71/150\n",
      "26/26 [==============================] - 4s 153ms/step - loss: 2.9814 - accuracy: 0.1200 - val_loss: 2.9839 - val_accuracy: 0.1329\n",
      "Epoch 72/150\n",
      "26/26 [==============================] - 4s 162ms/step - loss: 2.9590 - accuracy: 0.1196 - val_loss: 3.0012 - val_accuracy: 0.1329\n",
      "Epoch 73/150\n",
      "26/26 [==============================] - 4s 155ms/step - loss: 2.9596 - accuracy: 0.1181 - val_loss: 2.9738 - val_accuracy: 0.1329\n",
      "Epoch 74/150\n",
      "23/26 [=========================>....] - ETA: 0s - loss: 2.9607 - accuracy: 0.1182"
     ]
    }
   ],
   "source": [
    "epochs = 150\n",
    "training_history = model.fit_generator(\n",
    "            train_dataset, # use augmented images for train \n",
    "            steps_per_epoch=X_train.shape[0] // batch_size,\n",
    "            validation_data = test_dataset, # use augmented images for test\n",
    "            epochs = epochs,\n",
    "            )"
   ]
  },
  {
   "cell_type": "code",
   "execution_count": 86,
   "metadata": {},
   "outputs": [],
   "source": [
    "train_acc = training_history.history['accuracy']\n",
    "val_acc = training_history.history['val_accuracy']"
   ]
  },
  {
   "cell_type": "code",
   "execution_count": 108,
   "metadata": {},
   "outputs": [
    {
     "data": {
      "image/png": "[encoded data removed]",
      "text/plain": [
       "<Figure size 640x480 with 1 Axes>"
      ]
     },
     "metadata": {},
     "output_type": "display_data"
    }
   ],
   "source": [
    "plt.xlabel('Epochs')\n",
    "plt.ylabel('Accuracy')\n",
    "\n",
    "# Courbe de la précision sur l'échantillon d'entrainement\n",
    "plt.plot(np.arange(1 , 151, 1),\n",
    "         training_history.history['accuracy'],\n",
    "         label = 'Training Accuracy',\n",
    "         color = 'blue')\n",
    "\n",
    "# Courbe de la précision sur l'échantillon de test\n",
    "plt.plot(np.arange(1 , 151, 1),\n",
    "         training_history.history['val_accuracy'], \n",
    "         label = 'Validation Accuracy',\n",
    "         color = 'red')\n",
    "\n",
    "# Affichage de la légende\n",
    "plt.legend()\n",
    "\n",
    "# Affichage de la figure\n",
    "plt.show()\n"
   ]
  }
 ],
 "metadata": {
  "kernelspec": {
   "display_name": "Python 3",
   "language": "python",
   "name": "python3"
  },
  "language_info": {
   "codemirror_mode": {
    "name": "ipython",
    "version": 3
   },
   "file_extension": ".py",
   "mimetype": "text/x-python",
   "name": "python",
   "nbconvert_exporter": "python",
   "pygments_lexer": "ipython3",
   "version": "3.10.10"
  },
  "orig_nbformat": 4,
  "vscode": {
   "interpreter": {
    "hash": "8bf3ee6e8b5d048238e97a582f6ea644ea218141bec08bb34d89b701de839fb8"
   }
  }
 },
 "nbformat": 4,
 "nbformat_minor": 2
}
