{
 "cells": [
  {
   "attachments": {},
   "cell_type": "markdown",
   "metadata": {},
   "source": [
    "# Projet Datascientest | Rapport technique\n",
    "\n",
    "**Participants** : Olga TOLSTOLUTSKA, Mohamed BACHKAT, Charly LAGRESLE \\\n",
    "**Mentor** : Manu PORTEL \\\n",
    "**Promotion** : DST Bootcamp DEC22 \\\n",
    "**Date du document** : 2023/03/06\n"
   ]
  },
  {
   "cell_type": "markdown",
   "metadata": {},
   "source": [
    "\n",
    "## Résumé\n",
    "\n",
    "\n"
   ]
  },
  {
   "attachments": {},
   "cell_type": "markdown",
   "metadata": {},
   "source": [
    "\n",
    "# Introduction\n",
    "\n",
    "## Contexte et objectifs\n",
    "\n",
    "### Etapes\n",
    "\n",
    "Rakuten est un site de e-commerce, regroupant près de 1.3 milliards d'utilisateurs. Afin de faciliter la gestion des suggestions de leurs recherches ou des recommandations qui leurs seront proposées, il est important de classifier les produits. Du fait de la quantité de produits et de leurs catégories associées, ce classement ne peut ni être fait manuellement, ni être régi par des règles. Une approche plus flexible, efficace et reproductible est donc à mettre en place. \n",
    "\n",
    "### Objectif\n",
    "\n",
    "L'objectif est de prédire le code de chaque produit, c'est-à-dire sa catégorie, sur la base d'une analyse de données textuelles et d'images.\n",
    "\n",
    "### Etapes du projet\n",
    "\n",
    "Le déroulement du projet suit la statégie suivante :\n",
    "\n",
    "* Analyse exploratoire\n",
    "    * Prise en main des données\n",
    "    * Analyse statistique et feature-engineering\n",
    "* Conception de modèles de référence en machine learning\n",
    "* Conception de modèles deep-learning\n",
    "    * Traitement des images et du texte\n",
    "    * Fusion de modèles\n",
    "* Développement d'un outil intercatif\n",
    "\n",
    "Le rapport ici présent se compose de parties similaires."
   ]
  },
  {
   "attachments": {},
   "cell_type": "markdown",
   "metadata": {},
   "source": [
    "# Analyse exploratoire\n",
    "\n",
    "## Prise en main des données\n",
    "\n",
    "### Données d'entrées\n",
    "\n",
    "#### Textes\n",
    "\n",
    "#### Images\n",
    "\n",
    "### Données de sorties\n",
    "\n"
   ]
  },
  {
   "attachments": {},
   "cell_type": "markdown",
   "metadata": {},
   "source": [
    "\n",
    "## Analayse statistique et feature-engineering\n",
    "\n",
    "\n",
    "# Modèles de références\n",
    "\n",
    "# Modèles de deep-learning\n",
    "\n",
    "## Traitement des images et du texte\n",
    "\n",
    "## Fusion des modèles\n",
    "\n",
    "# Outil interactif\n",
    "\n",
    "# Conclusion\n",
    "\n"
   ]
  }
 ],
 "metadata": {
  "kernelspec": {
   "display_name": "env",
   "language": "python",
   "name": "python3"
  },
  "language_info": {
   "codemirror_mode": {
    "name": "ipython",
    "version": 3
   },
   "file_extension": ".py",
   "mimetype": "text/x-python",
   "name": "python",
   "nbconvert_exporter": "python",
   "pygments_lexer": "ipython3",
   "version": "3.9.13"
  },
  "vscode": {
   "interpreter": {
    "hash": "b75a87c33401be6e4b50b30fb6526e3b0f1ee652121130951acb67c1afd19d74"
   }
  }
 },
 "nbformat": 4,
 "nbformat_minor": 2
}
