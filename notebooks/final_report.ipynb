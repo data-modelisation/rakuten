{
 "cells": [
  {
   "attachments": {},
   "cell_type": "markdown",
   "metadata": {},
   "source": [
    "# Projet Datascientest | Rapport technique\n",
    "\n",
    "**Participants** : Olga TOLSTOLUTSKA, Mohamed BACHKAT, Charly LAGRESLE \\\n",
    "**Mentor** : Manu PORTEL \\\n",
    "**Promotion** : DST Bootcamp DEC22 \\\n",
    "**Date du document** : 2023/03/06\n"
   ]
  },
  {
   "cell_type": "markdown",
   "metadata": {},
   "source": [
    "\n",
    "## Résumé\n",
    "\n",
    "\n"
   ]
  },
  {
   "attachments": {},
   "cell_type": "markdown",
   "metadata": {},
   "source": [
    "\n",
    "# Introduction\n",
    "\n",
    "## Contexte et objectifs\n",
    "\n",
    "### Etapes\n",
    "\n",
    "Rakuten est un site de e-commerce, regroupant près de 1.3 milliards d'utilisateurs. Afin de faciliter la gestion des suggestions de leurs recherches ou des recommandations qui leurs seront proposées, il est important de classifier les produits. Du fait de la quantité de produits et de leurs catégories associées, ce classement ne peut ni être fait manuellement, ni être régi par des règles. Une approche plus flexible, efficace et reproductible est donc à mettre en place. \n",
    "\n",
    "### Objectif\n",
    "\n",
    "L'objectif est de prédire le code de chaque produit, c'est-à-dire sa catégorie, sur la base d'une analyse de données textuelles et d'images.\n",
    "\n",
    "### Etapes du projet\n",
    "\n",
    "Le déroulement du projet suit la statégie suivante :\n",
    "\n",
    "* Analyse exploratoire\n",
    "    * Prise en main des données\n",
    "    * Analyse statistique et feature-engineering\n",
    "* Conception de modèles de référence en machine learning\n",
    "* Conception de modèles deep-learning\n",
    "    * Traitement des images et du texte\n",
    "    * Fusion de modèles\n",
    "* Développement d'un outil intercatif\n",
    "\n",
    "Le rapport ici présent se compose de parties similaires."
   ]
  },
  {
   "attachments": {},
   "cell_type": "markdown",
   "metadata": {},
   "source": [
    "# Analyse exploratoire\n",
    "\n",
    "L'exploration des données est la première étape de ce projet. \n",
    "\n",
    "## Prise en main des données\n",
    "\n",
    "Les données fournies pour ce challenge sont les suivantes :\n",
    "* `X_train_update.csv` : données explicatives et textuelles pour l'entraînement\n",
    "* `X_test_update.csv` : données explicatives et textuelles pour les tests\n",
    "* `Y_train_CVw08PX.csv` : variable cible pour l'entraînement\n",
    "* `images/image_train/*.jpg` : images pour l'entraînement\n",
    "* `images/image_test/*.jpg` :  images pour les tests\n",
    "\n",
    "> Nous notons que la varible cible de test n'est pas fournie : les observations de tests ne seront donc pas exploitées.\n",
    "\n",
    "Le jeu d'entrainement se compose a priori de 84 916 observations : des données textuelles ainsi que des images.\n",
    "\n",
    "### Données d'entrées\n",
    "\n",
    "\n",
    "\n",
    "#### Textes\n",
    "\n",
    "Les données `X_train_update.csv` se compose de plusieurs champs : \n",
    "\n",
    "* `designation` : titre du produit dans différentes langues (0% de NaNs)\n",
    "* `description` : description détaillée du produit dans différentes langues (35% de NaNs)\n",
    "* `productid` : identifiant unique du produit (0% NaNs)\n",
    "* `imageid` identifiant unique de l'image du produit (0% NaNs)\n",
    "\n",
    "> Les champs `productid` et `imageid` ne servent qu'à construire le nom du fichier image associé au produit. Ils ne seront donc pas étudiés statistiquement parlant.\n",
    "\n",
    "#### Images\n",
    "\n",
    "Chaque produit est associé à une image qui le représente. L'image comporte le produit, généralement photographié sur un fond blanc, mais peut également être complété par une mise scène du produit (jardin, décoration) ou par un support (main portant le produit par exemple). Les images sont en couleur, ont une taille de 500x500 pixels et nous sont fournies au format `.jpg`.\n",
    "\n",
    "### Données de sorties\n",
    "\n",
    "Les cibles sont fournies dans le fichier `Y_train_CVw08PX.csv`. A ce stade, nous notons que 27 catégories différentes seront à déterminer.\n",
    "\n",
    "\n",
    "## Analyse du problème\n",
    "\n",
    "### Type de problème\n",
    "\n",
    "Les observations textuelles et graphiques doivent permettre au modèle d'affecter à chaque observation dont les features sont actuellement (`designation`, `description` , et une image) à une catégorie de produit `prdtypecode`. Cette cible est disponible et se présente sous la forme d'un numéro associé à une catégorie (par exemple `livre`, `tech`, `décoration`, etc.).\n",
    "\n",
    "Nous avons donc affaire à un problème de catégorisation supervisé. Pour la partie texte, un analyse automatique du langage naturel (*NLP : Natural Langage Processing*) sera à mettre en place.\n",
    "\n",
    "### Particularité du problème\n",
    "\n",
    "La catégorisation se base sur l'apprentissage fait sur les données à notre disposition. Ces données sont de deux types (textuel et graphique). De ce fait :\n",
    "* les pré-traitements seront différents\n",
    "* plusieurs modèles seront à concevoir, à entrainer et à faire dialoguer\n",
    "    * un modèle pour catégoriser le produit en fonction du texte fourni\n",
    "    * un modèle pour catégrosier le produit en fonction de son image associée\n",
    "    * une étape de regroupement des prédictions sera à réaliser afin d'obtenir une unique catégorie en fin de process"
   ]
  },
  {
   "attachments": {},
   "cell_type": "markdown",
   "metadata": {},
   "source": [
    "\n",
    "## Analayse statistique et feature-engineering\n",
    "\n",
    "\n",
    "# Modèles de références\n",
    "\n",
    "# Modèles de deep-learning\n",
    "\n",
    "## Traitement des images et du texte\n",
    "\n",
    "## Fusion des modèles\n",
    "\n",
    "# Outil interactif\n",
    "\n",
    "# Conclusion\n",
    "\n"
   ]
  }
 ],
 "metadata": {
  "kernelspec": {
   "display_name": "env",
   "language": "python",
   "name": "python3"
  },
  "language_info": {
   "codemirror_mode": {
    "name": "ipython",
    "version": 3
   },
   "file_extension": ".py",
   "mimetype": "text/x-python",
   "name": "python",
   "nbconvert_exporter": "python",
   "pygments_lexer": "ipython3",
   "version": "3.9.13"
  },
  "vscode": {
   "interpreter": {
    "hash": "b75a87c33401be6e4b50b30fb6526e3b0f1ee652121130951acb67c1afd19d74"
   }
  }
 },
 "nbformat": 4,
 "nbformat_minor": 2
}
