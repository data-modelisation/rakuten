{
 "cells": [
  {
   "cell_type": "code",
   "execution_count": 17,
   "metadata": {},
   "outputs": [],
   "source": [
    "#Chargement des librairies\n",
    "\n",
    "from sklearn.model_selection import train_test_split\n",
    "\n",
    "from sklearn.decomposition import PCA\n",
    "from sklearn.svm import SVC\n",
    "from sklearn.metrics import confusion_matrix\n",
    "\n",
    "import pandas as pd\n",
    "import numpy as np\n",
    "\n",
    "import matplotlib.pyplot as plt\n",
    "from matplotlib.image import imread\n",
    "from matplotlib import offsetbox\n",
    "import cv2\n",
    "import os,glob\n",
    "import matplotlib.pylab as plt\n",
    "from os import listdir,makedirs\n",
    "from os.path import isfile,join\n",
    "import PIL\n",
    "import re\n",
    "from keras.utils import to_categorical\n",
    "\n",
    "from tensorflow.keras.layers import Input, Dense\n",
    "from tensorflow.keras.models import Model\n",
    "from tensorflow.keras.layers import Dropout \n",
    "from tensorflow.keras.layers import Flatten\n",
    "from tensorflow.keras.layers import Conv2D \n",
    "from tensorflow.keras.layers import MaxPooling2D\n",
    "\n",
    "from tensorflow.keras.preprocessing.image import ImageDataGenerator\n",
    "\n",
    "from tensorflow.keras.applications.vgg16 import preprocess_input\n",
    "\n",
    "from sklearn import preprocessing\n",
    "\n",
    "%matplotlib inline"
   ]
  },
  {
   "cell_type": "code",
   "execution_count": 18,
   "metadata": {},
   "outputs": [
    {
     "ename": "",
     "evalue": "",
     "output_type": "error",
     "traceback": [
      "\u001b[1;31mThe Kernel crashed while executing code in the the current cell or a previous cell. Please review the code in the cell(s) to identify a possible cause of the failure. Click <a href='https://aka.ms/vscodeJupyterKernelCrash'>here</a> for more info. View Jupyter <a href='command:jupyter.viewOutput'>log</a> for further details."
     ]
    }
   ],
   "source": [
    "\n",
    "\n",
    "# Chargement des données\n",
    "y = pd.read_csv(\"C:/Users/data/Y_train_CVw08PX.csv\")\n",
    "X = pd.read_csv(\"C:/Users/data/X_train_update.csv\")\n",
    "\n",
    "# transformer les images du dossier en numpyarray, avec une période de n_b_image_select \n",
    "#pth ='C:/Users/image_train'\n",
    "# dossier des images compressées et redimentionnées\n",
    "pth = 'C:/Users/MBACHKAT/Anaconda3/Data/image_reduction2/'\n",
    "\n",
    "folders =  os.listdir(pth)\n",
    "\n",
    "\n",
    "\n",
    "files = []\n",
    "columns = ['data']\n",
    "# variables qui nous donne le nombre de la période de selection des images, exemple si egale à 20 alors on garde les images toutes les 100 images\n",
    "nb_images_select = 20\n",
    "# commpteur de fichier\n",
    "cpt = 0\n",
    "# regex du nom de fichier, on recupère le numéro de l'image\n",
    "r = re.compile(r\"image_([0-9]*)_product\")\n",
    "\n",
    "# taille de l'image\n",
    "pixel_size = 150\n",
    "\n",
    "for file in folders:\n",
    "    # on selectionne une image toutes les nb_images_select images\n",
    "    if(cpt%nb_images_select==0):\n",
    "        files.append(file)\n",
    "    cpt+=1\n",
    "\n",
    "#  initialisation de ligne du numpy array\n",
    "samples = np.ones(shape=(1+3*pixel_size*pixel_size))\n",
    "for file in files:\n",
    "    # on récupère l'image du fichier\n",
    "    img = cv2.imread(os.path.join(pth,file))\n",
    "    img = np.int64(img)\n",
    "    # on écrase l'image\n",
    "    img = img.reshape(-1)\n",
    "    # recherche du pattern dans le nom du fichier\n",
    "    r_num_file = r.search(file)\n",
    "    # numéro de l'image\n",
    "    num_file = r_num_file.groups()[0]\n",
    "    \n",
    "    img_class = y.loc[X.loc[X['imageid'].astype(str)== str(num_file)].index[0],'prdtypecode']\n",
    "    # ligne du numpy array avec les pixels comme colonne et on rajoute une colonne pour le type produit\n",
    "    img_tab = np.append(img,img_class)\n",
    "    # on empile les lignes\n",
    "    samples = np.vstack((samples, img_tab))\n",
    "   \n",
    "array_image = samples\n",
    "\n",
    "# effacer la première ligne qui a servi en remplire l'array transformé en dataframe\n",
    "\n",
    "array_image = np.delete(array_image,0,0)\n",
    "\n"
   ]
  },
  {
   "cell_type": "code",
   "execution_count": 4,
   "metadata": {},
   "outputs": [
    {
     "name": "stdout",
     "output_type": "stream",
     "text": [
      "(4246,)\n",
      "(4246, 67500)\n"
     ]
    }
   ],
   "source": [
    "# On vérifie les dimensions des numpy array\n",
    "\n",
    "\n",
    "targets = array_image[:,-1]\n",
    "\n",
    "df_image = array_image[:,0:3*pixel_size*pixel_size]\n",
    "\n",
    "print(targets.shape)\n",
    "\n",
    "print(df_image.shape)"
   ]
  },
  {
   "cell_type": "code",
   "execution_count": 5,
   "metadata": {},
   "outputs": [],
   "source": [
    "X = np.array(df_image)\n",
    "X = X.reshape((-1, 150, 150, 3))\n",
    "X = X.astype('float32')\n",
    "X /= 255.0\n",
    "\n",
    "Y = np.array(targets)\n",
    "\n"
   ]
  },
  {
   "cell_type": "code",
   "execution_count": 83,
   "metadata": {},
   "outputs": [],
   "source": [
    "'''\n",
    "Y_df = pd.DataFrame(Y,columns=['col1'] )\n",
    "\n",
    "Y_df = Y_df.replace(to_replace = np.unique(Y), value = range(len(np.unique(Y))))\n",
    "\n",
    "\n",
    "Y = Y_df.to_numpy()\n",
    "Y = Y[:,0]\n",
    "'''\n"
   ]
  },
  {
   "cell_type": "code",
   "execution_count": 6,
   "metadata": {},
   "outputs": [],
   "source": [
    "labelencoder = preprocessing.LabelEncoder()\n",
    "\n",
    "Y_encoded = labelencoder.fit_transform(Y)\n",
    "\n",
    "# Y = labelencoder.inverse_transform(Y_encoded)"
   ]
  },
  {
   "cell_type": "code",
   "execution_count": 7,
   "metadata": {},
   "outputs": [
    {
     "data": {
      "text/plain": [
       "array([ 0,  1,  2,  3,  4,  5,  6,  7,  8,  9, 10, 11, 12, 13, 14, 15, 16,\n",
       "       17, 18, 19, 20, 21, 22, 23, 24, 25, 26], dtype=int64)"
      ]
     },
     "execution_count": 7,
     "metadata": {},
     "output_type": "execute_result"
    }
   ],
   "source": [
    "np.unique(Y_encoded)\n"
   ]
  },
  {
   "cell_type": "code",
   "execution_count": 8,
   "metadata": {},
   "outputs": [],
   "source": [
    "# On split le jeu d'entrainement et le jeu de test\n",
    "X_train, X_test, y_train, y_test = train_test_split(X, Y_encoded, test_size = .2, random_state = 42, shuffle = True)\n"
   ]
  },
  {
   "cell_type": "code",
   "execution_count": 9,
   "metadata": {},
   "outputs": [
    {
     "name": "stdout",
     "output_type": "stream",
     "text": [
      "(3396,)\n",
      "(3396, 150, 150, 3)\n"
     ]
    }
   ],
   "source": [
    "print(y_train.shape)\n",
    "print(X_train.shape)"
   ]
  },
  {
   "cell_type": "code",
   "execution_count": 10,
   "metadata": {},
   "outputs": [],
   "source": [
    "\n",
    "y_train = to_categorical(y_train)\n",
    "y_test = to_categorical(y_test)\n",
    "\n"
   ]
  },
  {
   "cell_type": "code",
   "execution_count": 11,
   "metadata": {},
   "outputs": [
    {
     "data": {
      "text/plain": [
       "(3396, 27)"
      ]
     },
     "execution_count": 11,
     "metadata": {},
     "output_type": "execute_result"
    }
   ],
   "source": [
    "y_train.shape"
   ]
  },
  {
   "cell_type": "code",
   "execution_count": null,
   "metadata": {},
   "outputs": [],
   "source": []
  },
  {
   "cell_type": "code",
   "execution_count": 12,
   "metadata": {},
   "outputs": [],
   "source": [
    "# réseau de neurone Lenet\n",
    "inputs = Input(shape = (150, 150,3), name = \"Input\")\n",
    "\n",
    "conv_1 = Conv2D(filters = 30,                     # Nombre de filtres\n",
    "                kernel_size = (5, 5),            # Dimensions du noyau\n",
    "                padding = 'valid',               # Mode de Dépassement\n",
    "                input_shape = (28, 28, 1),       # Dimensions de l'image en entrée\n",
    "                activation = 'relu')             # Fonction d'activation\n",
    "\n",
    "max_pool_1 = MaxPooling2D(pool_size = (2, 2))\n",
    "\n",
    "conv_2 = Conv2D(filters = 16,                    \n",
    "                kernel_size = (3, 3),          \n",
    "                padding = 'valid',             \n",
    "                activation = 'relu')\n",
    "\n",
    "max_pool_2 = MaxPooling2D(pool_size = (2, 2))\n",
    "\n",
    "flatten = Flatten()\n",
    "\n",
    "dropout = Dropout(rate = 0.2)\n",
    "\n",
    "dense_1 = Dense(units = 64,\n",
    "                activation = 'relu')\n",
    "\n",
    "\n",
    "\n",
    "output_layer = Dense(units = 27,\n",
    "                activation = 'softmax')\n",
    "x=conv_1(inputs)\n",
    "x=max_pool_1(x)\n",
    "x=conv_2(x)\n",
    "x=max_pool_2(x)\n",
    "\n",
    "\n",
    "x=dropout(x)\n",
    "x=flatten(x)\n",
    "x=dense_1(x)\n",
    "\n",
    "outputs=output_layer(x)\n",
    "model = Model(inputs = inputs, outputs = outputs)"
   ]
  },
  {
   "cell_type": "code",
   "execution_count": 13,
   "metadata": {},
   "outputs": [],
   "source": [
    "model.compile(loss='categorical_crossentropy', # fonction de perte\n",
    "              optimizer='adam',                # algorithme d'optimisation\n",
    "              metrics=['accuracy'])            # métrique d'évaluation\n",
    "\n"
   ]
  },
  {
   "cell_type": "code",
   "execution_count": 14,
   "metadata": {},
   "outputs": [
    {
     "name": "stdout",
     "output_type": "stream",
     "text": [
      "Epoch 1/15\n",
      "14/14 [==============================] - 31s 2s/step - loss: 3.1878 - accuracy: 0.1079 - val_loss: 3.0616 - val_accuracy: 0.1441\n",
      "Epoch 2/15\n",
      "14/14 [==============================] - 33s 2s/step - loss: 3.0154 - accuracy: 0.1568 - val_loss: 2.9534 - val_accuracy: 0.1706\n",
      "Epoch 3/15\n",
      "14/14 [==============================] - 33s 2s/step - loss: 2.8616 - accuracy: 0.1966 - val_loss: 2.8453 - val_accuracy: 0.2044\n",
      "Epoch 4/15\n",
      "14/14 [==============================] - 33s 2s/step - loss: 2.6690 - accuracy: 0.2493 - val_loss: 2.7873 - val_accuracy: 0.2250\n",
      "Epoch 5/15\n",
      "14/14 [==============================] - 33s 2s/step - loss: 2.4956 - accuracy: 0.2953 - val_loss: 2.7478 - val_accuracy: 0.2338\n",
      "Epoch 6/15\n",
      "14/14 [==============================] - 33s 2s/step - loss: 2.3199 - accuracy: 0.3476 - val_loss: 2.7884 - val_accuracy: 0.2382\n",
      "Epoch 7/15\n",
      "14/14 [==============================] - 33s 2s/step - loss: 2.1231 - accuracy: 0.3999 - val_loss: 2.7654 - val_accuracy: 0.2221\n",
      "Epoch 8/15\n",
      "14/14 [==============================] - 33s 2s/step - loss: 1.9154 - accuracy: 0.4547 - val_loss: 2.8658 - val_accuracy: 0.2353\n",
      "Epoch 9/15\n",
      "14/14 [==============================] - 33s 2s/step - loss: 1.6226 - accuracy: 0.5328 - val_loss: 2.9643 - val_accuracy: 0.2235\n",
      "Epoch 10/15\n",
      "14/14 [==============================] - 33s 2s/step - loss: 1.3949 - accuracy: 0.6152 - val_loss: 3.1120 - val_accuracy: 0.2015\n",
      "Epoch 11/15\n",
      "14/14 [==============================] - 35s 2s/step - loss: 1.1566 - accuracy: 0.6841 - val_loss: 3.3306 - val_accuracy: 0.2132\n",
      "Epoch 12/15\n",
      "14/14 [==============================] - 33s 2s/step - loss: 0.9713 - accuracy: 0.7419 - val_loss: 3.7345 - val_accuracy: 0.2176\n",
      "Epoch 13/15\n",
      "14/14 [==============================] - 34s 2s/step - loss: 0.8046 - accuracy: 0.7887 - val_loss: 3.8129 - val_accuracy: 0.2265\n",
      "Epoch 14/15\n",
      "14/14 [==============================] - 33s 2s/step - loss: 0.6228 - accuracy: 0.8362 - val_loss: 4.2480 - val_accuracy: 0.2147\n",
      "Epoch 15/15\n",
      "14/14 [==============================] - 36s 3s/step - loss: 0.5280 - accuracy: 0.8660 - val_loss: 4.2632 - val_accuracy: 0.2235\n"
     ]
    }
   ],
   "source": [
    "training_history = model.fit(\n",
    "                            X_train, y_train,\n",
    "                             validation_split = 0.2,\n",
    "                             epochs = 15,\n",
    "                             batch_size = 200)"
   ]
  },
  {
   "cell_type": "code",
   "execution_count": 15,
   "metadata": {},
   "outputs": [],
   "source": [
    "train_acc = training_history.history['accuracy']\n",
    "val_acc = training_history.history['val_accuracy']"
   ]
  },
  {
   "cell_type": "code",
   "execution_count": 16,
   "metadata": {},
   "outputs": [
    {
     "data": {
      "image/png": "[encoded data removed]",
      "text/plain": [
       "<Figure size 640x480 with 1 Axes>"
      ]
     },
     "metadata": {},
     "output_type": "display_data"
    }
   ],
   "source": [
    "plt.xlabel('Epochs')\n",
    "plt.ylabel('Accuracy')\n",
    "\n",
    "# Courbe de la précision sur l'échantillon d'entrainement\n",
    "plt.plot(np.arange(1 , 16, 1),\n",
    "         training_history.history['accuracy'],\n",
    "         label = 'Training Accuracy',\n",
    "         color = 'blue')\n",
    "\n",
    "# Courbe de la précision sur l'échantillon de test\n",
    "plt.plot(np.arange(1 , 16, 1),\n",
    "         training_history.history['val_accuracy'], \n",
    "         label = 'Validation Accuracy',\n",
    "         color = 'red')\n",
    "\n",
    "# Affichage de la légende\n",
    "plt.legend()\n",
    "\n",
    "# Affichage de la figure\n",
    "plt.show()\n"
   ]
  }
 ],
 "metadata": {
  "kernelspec": {
   "display_name": "Python 3",
   "language": "python",
   "name": "python3"
  },
  "language_info": {
   "codemirror_mode": {
    "name": "ipython",
    "version": 3
   },
   "file_extension": ".py",
   "mimetype": "text/x-python",
   "name": "python",
   "nbconvert_exporter": "python",
   "pygments_lexer": "ipython3",
   "version": "3.10.10"
  },
  "orig_nbformat": 4,
  "vscode": {
   "interpreter": {
    "hash": "8bf3ee6e8b5d048238e97a582f6ea644ea218141bec08bb34d89b701de839fb8"
   }
  }
 },
 "nbformat": 4,
 "nbformat_minor": 2
}
